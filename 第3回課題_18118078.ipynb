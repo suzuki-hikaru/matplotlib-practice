{
  "nbformat": 4,
  "nbformat_minor": 0,
  "metadata": {
    "colab": {
      "name": "第3回課題-18118078.ipynb",
      "provenance": [],
      "collapsed_sections": [],
      "include_colab_link": true
    },
    "kernelspec": {
      "name": "python3",
      "display_name": "Python 3"
    }
  },
  "cells": [
    {
      "cell_type": "markdown",
      "metadata": {
        "id": "view-in-github",
        "colab_type": "text"
      },
      "source": [
        "<a href=\"https://colab.research.google.com/github/suzuki-hikaru/ml-practice/blob/master/%E7%AC%AC3%E5%9B%9E%E8%AA%B2%E9%A1%8C_18118078.ipynb\" target=\"_parent\"><img src=\"https://colab.research.google.com/assets/colab-badge.svg\" alt=\"Open In Colab\"/></a>"
      ]
    },
    {
      "cell_type": "markdown",
      "metadata": {
        "id": "0BEgrpcADHFh"
      },
      "source": [
        "# ワイン品質データセットにおけるワインの種類を、以下①②の手法で分類し、それぞれのトレーニングデータの正解率と使用したパラメータを記述してください\n",
        "①決定木で分類\n",
        "\n",
        "②ランダムフォレストもしくはAdaBoost(決定木をベースとする)で分類"
      ]
    },
    {
      "cell_type": "markdown",
      "metadata": {
        "id": "GsgedcHdDQZU"
      },
      "source": [
        "## <font color=\"red\">解答欄</font>\n",
        "\n",
        "①\n",
        "- 正解率: 0.9629629629629629\n",
        "- パラメータ: criterion='gini', max_depth=4\n",
        "\n",
        "\n",
        "\n",
        "②\n",
        "- 選んだアルゴリズム:　ランダムフォレスト\n",
        "- 正解率: 0.9814814814814815\n",
        "- パラメータ: criterion='gini',n_estimators=50,          random_state=1,n_jobs=2\n",
        "\n",
        "<br><br><br><br><br>\n",
        "\n"
      ]
    },
    {
      "cell_type": "markdown",
      "metadata": {
        "id": "28m8nClHI9bb"
      },
      "source": [
        "### データセットの読み込み"
      ]
    },
    {
      "cell_type": "code",
      "metadata": {
        "id": "390RXDnqI8Mt"
      },
      "source": [
        "# このセルの内容は変更禁止\n",
        "from sklearn import datasets\n",
        "import numpy as np\n",
        "\n",
        "# ワイン品質データセットは load_wine を読み込む\n",
        "wine = datasets.load_wine()\n",
        "X = wine.data\n",
        "y = wine.target"
      ],
      "execution_count": null,
      "outputs": []
    },
    {
      "cell_type": "markdown",
      "metadata": {
        "id": "Oiv0qlNnJJF8"
      },
      "source": [
        "### トレーニングデータ・テストデータの分割"
      ]
    },
    {
      "cell_type": "code",
      "metadata": {
        "id": "0GUS172hJH_z"
      },
      "source": [
        "# このセルの内容は変更禁止\n",
        "from sklearn.model_selection import train_test_split\n",
        "\n",
        "X_train, X_test, y_train, y_test = train_test_split(\n",
        "    X, y, test_size=0.3, random_state=1, stratify=y)"
      ],
      "execution_count": null,
      "outputs": []
    },
    {
      "cell_type": "markdown",
      "metadata": {
        "id": "EaPKKIB6A72X"
      },
      "source": [
        "## 以下、各自で取り組んでみてください\n",
        "- 解答は**解答欄に**お願いします\n",
        "- [参考ノートブック](https://colab.research.google.com/drive/1wvBZCiRwLzEMZsHI0DYPCxwAjlmIy1c7?usp=sharing)を参照してみて下さい"
      ]
    },
    {
      "cell_type": "markdown",
      "metadata": {
        "id": "WSWEi5OSS78y"
      },
      "source": [
        "## 下準備"
      ]
    },
    {
      "cell_type": "code",
      "metadata": {
        "id": "p93d3v2YUnK7"
      },
      "source": [
        "# 必要になるライブラリのインポート\r\n",
        "from sklearn.tree import export_graphviz\r\n",
        "import graphviz\r\n",
        "import pydotplus"
      ],
      "execution_count": null,
      "outputs": []
    },
    {
      "cell_type": "code",
      "metadata": {
        "colab": {
          "base_uri": "https://localhost:8080/"
        },
        "id": "m4645OsLS-oG",
        "outputId": "d420dd08-aadf-4675-f99d-f969fc591f3c"
      },
      "source": [
        "# 特徴量の確認\r\n",
        "print(wine['feature_names'])\r\n",
        "print('Class labels:', np.unique(y))"
      ],
      "execution_count": null,
      "outputs": [
        {
          "output_type": "stream",
          "text": [
            "['alcohol', 'malic_acid', 'ash', 'alcalinity_of_ash', 'magnesium', 'total_phenols', 'flavanoids', 'nonflavanoid_phenols', 'proanthocyanins', 'color_intensity', 'hue', 'od280/od315_of_diluted_wines', 'proline']\n",
            "Class labels: [0 1 2]\n"
          ],
          "name": "stdout"
        }
      ]
    },
    {
      "cell_type": "code",
      "metadata": {
        "id": "z5GV2biOUkvf"
      },
      "source": [
        ""
      ],
      "execution_count": null,
      "outputs": []
    },
    {
      "cell_type": "markdown",
      "metadata": {
        "id": "BnFa44OZC6yv"
      },
      "source": [
        "### ①決定木\n",
        "- scikit-learnの[DecisionTreeClassifier](https://scikit-learn.org/stable/modules/generated/sklearn.tree.DecisionTreeClassifier.html)を使って下さい（アルゴリズムはCARTです）\n",
        "- ※ちなみに回帰は[DecisionTreeRegressor](https://scikit-learn.org/stable/modules/generated/sklearn.tree.DecisionTreeRegressor.html)でできます\n",
        "- [動画](https://www.youtube.com/watch?v=irTbuevXauk)の24分28秒〜28分6秒を参考にしてみて下さい"
      ]
    },
    {
      "cell_type": "code",
      "metadata": {
        "id": "Vm82alEZCqmu"
      },
      "source": [
        "# このセルの内容は変更禁止\n",
        "from sklearn.tree import DecisionTreeClassifier\n",
        "from sklearn import tree, metrics\n",
        "from sklearn.metrics import accuracy_score"
      ],
      "execution_count": null,
      "outputs": []
    },
    {
      "cell_type": "code",
      "metadata": {
        "id": "ux7WxdVsgSNN",
        "colab": {
          "base_uri": "https://localhost:8080/"
        },
        "outputId": "84ba1ca7-f916-416a-f20d-d924ea5ece55"
      },
      "source": [
        "# 正解率を書く（決定木）\r\n",
        "tree_clf = DecisionTreeClassifier(criterion='gini', max_depth=4)\r\n",
        "tree_clf.fit(X_train, y_train)\r\n",
        "\r\n",
        "predict = tree_clf.predict(X_test)\r\n",
        "ac_score_tree = metrics.accuracy_score(y_test,predict)\r\n",
        "cl_report_tree = metrics.classification_report(y_test,predict)\r\n",
        "print(\"正解率:\" , ac_score_tree)\r\n",
        "print(\"レポート:\\n\",cl_report_tree)"
      ],
      "execution_count": null,
      "outputs": [
        {
          "output_type": "stream",
          "text": [
            "正解率: 0.9629629629629629\n",
            "レポート:\n",
            "               precision    recall  f1-score   support\n",
            "\n",
            "           0       0.94      0.94      0.94        18\n",
            "           1       0.95      0.95      0.95        21\n",
            "           2       1.00      1.00      1.00        15\n",
            "\n",
            "    accuracy                           0.96        54\n",
            "   macro avg       0.97      0.97      0.97        54\n",
            "weighted avg       0.96      0.96      0.96        54\n",
            "\n"
          ],
          "name": "stdout"
        }
      ]
    },
    {
      "cell_type": "markdown",
      "metadata": {
        "id": "sd2eAoLVC-ZQ"
      },
      "source": [
        "### ②ランダムフォレスト or AdaBoost\n",
        "- scikit-learnの[RandomForestClassifier](https://scikit-learn.org/stable/modules/generated/sklearn.ensemble.RandomForestClassifier.html)か\n",
        "[AdaBoostClassifier](https://scikit-learn.org/stable/modules/generated/sklearn.ensemble.AdaBoostClassifier.html)を使って下さい<br>\n",
        "- ※ちなみに回帰はそれぞれ[RandomForestRegressor](https://scikit-learn.org/stable/modules/generated/sklearn.ensemble.RandomForestRegressor.html)と[AdaBoostRegressor](https://scikit-learn.org/stable/modules/generated/sklearn.ensemble.AdaBoostRegressor.html)でできます\n",
        "- ランダムフォレストは、[動画](https://www.youtube.com/watch?v=0WcrBe017-w)16分57秒以降を参考にしてみて下さい\n",
        "- AdaBoostは、[このサイト](https://www.haya-programming.com/entry/2019/04/22/183347)を参考にしてみて下さい（パラメータに関しても参考になります）"
      ]
    },
    {
      "cell_type": "code",
      "metadata": {
        "id": "jq3jMpbGDEPV"
      },
      "source": [
        "# このセルの内容は変更禁止\n",
        "from sklearn.ensemble import RandomForestClassifier\n",
        "from sklearn.ensemble import AdaBoostClassifier"
      ],
      "execution_count": null,
      "outputs": []
    },
    {
      "cell_type": "code",
      "metadata": {
        "id": "JDdy7WwIgSlB",
        "colab": {
          "base_uri": "https://localhost:8080/"
        },
        "outputId": "99b30e5c-da5d-4eb4-ec24-f9a3e722c5ca"
      },
      "source": [
        "from sklearn.ensemble import RandomForestClassifier\r\n",
        "\r\n",
        "forest_clf = RandomForestClassifier(criterion='gini',\r\n",
        "                                n_estimators=50, \r\n",
        "                                random_state=1,\r\n",
        "                                n_jobs=2)\r\n",
        "forest_clf.fit(X_train, y_train)\r\n",
        "\r\n",
        "estimator = forest_clf.estimators_[0]\r\n",
        "\r\n",
        "predict_forest = forest_clf.predict(X_test)\r\n",
        "ac_score_forest = metrics.accuracy_score(y_test,predict_forest)\r\n",
        "cl_report_forest = metrics.classification_report(y_test,predict_forest)\r\n",
        "print(\"正解率:\" , ac_score_forest)\r\n",
        "print(\"レポート:\\n\",cl_report_forest)"
      ],
      "execution_count": null,
      "outputs": [
        {
          "output_type": "stream",
          "text": [
            "正解率: 0.9814814814814815\n",
            "レポート:\n",
            "               precision    recall  f1-score   support\n",
            "\n",
            "           0       1.00      0.94      0.97        18\n",
            "           1       0.95      1.00      0.98        21\n",
            "           2       1.00      1.00      1.00        15\n",
            "\n",
            "    accuracy                           0.98        54\n",
            "   macro avg       0.98      0.98      0.98        54\n",
            "weighted avg       0.98      0.98      0.98        54\n",
            "\n"
          ],
          "name": "stdout"
        }
      ]
    },
    {
      "cell_type": "markdown",
      "metadata": {
        "id": "R7kspVFC7Ggo"
      },
      "source": [
        "# 応用課題（もし時間に余裕があれば）\n",
        "[このノートブック](https://colab.research.google.com/drive/1wvBZCiRwLzEMZsHI0DYPCxwAjlmIy1c7?usp=sharing)を参考に可視化してみて下さい<br>\n",
        "1月は試験期間なので無理のない範囲で大丈夫です🙆‍♀️"
      ]
    },
    {
      "cell_type": "code",
      "metadata": {
        "id": "ki0kJYMQ7VlK",
        "colab": {
          "base_uri": "https://localhost:8080/"
        },
        "outputId": "a5f207d2-af66-4e6e-db63-137837ac3a8c"
      },
      "source": [
        "# 特徴量確認\r\n",
        "print(wine.feature_names)\r\n",
        "print(wine.target_names)"
      ],
      "execution_count": null,
      "outputs": [
        {
          "output_type": "stream",
          "text": [
            "['alcohol', 'malic_acid', 'ash', 'alcalinity_of_ash', 'magnesium', 'total_phenols', 'flavanoids', 'nonflavanoid_phenols', 'proanthocyanins', 'color_intensity', 'hue', 'od280/od315_of_diluted_wines', 'proline']\n",
            "['class_0' 'class_1' 'class_2']\n"
          ],
          "name": "stdout"
        }
      ]
    },
    {
      "cell_type": "markdown",
      "metadata": {
        "id": "FMGBcrG49lyO"
      },
      "source": [
        "DeepLで翻訳！！！\r\n",
        "\r\n",
        "⇒「アルコール」、「リンゴ酸」、「灰分」、「灰分濃度」、「マグネシウム」、「総フェノール」、「フラバノイド」、「ノンフラバノイド」、「プロアントシアニン」、「色の濃さ」、「色相」、「od280/od315_of_diluted_wines」、「プロリン」(アミノ酸の一種らしい) 。"
      ]
    },
    {
      "cell_type": "markdown",
      "metadata": {
        "id": "4woJAzu--Wbk"
      },
      "source": [
        "見た目だけの情報で学習するとどうなるか気になった。\r\n",
        "\r\n",
        "「色の濃さ」、「色相」をせんたく！"
      ]
    },
    {
      "cell_type": "code",
      "metadata": {
        "id": "GVjCtVTC8PPj"
      },
      "source": [
        "X=wine.data[:, [9, 10]]"
      ],
      "execution_count": null,
      "outputs": []
    },
    {
      "cell_type": "code",
      "metadata": {
        "id": "aXx_z0SB_Pui"
      },
      "source": [
        "from sklearn.model_selection import train_test_split\r\n",
        "\r\n",
        "X_train, X_test, y_train, y_test = train_test_split(X, y, test_size=0.3, random_state=1, stratify=y)"
      ],
      "execution_count": null,
      "outputs": []
    },
    {
      "cell_type": "code",
      "metadata": {
        "id": "RlGtBpp7TQ6x"
      },
      "source": [
        "# 散布図を書くための関数\r\n",
        "from matplotlib.colors import ListedColormap\r\n",
        "import matplotlib.pyplot as plt\r\n",
        "\r\n",
        "def plot_decision_regions(X, y, classifier, test_idx=None, resolution=0.02):\r\n",
        "\r\n",
        "    # setup marker generator and color map\r\n",
        "    markers = ('s', 'x', 'o', '^', 'v')\r\n",
        "    colors = ('red', 'blue', 'lightgreen', 'gray', 'cyan')\r\n",
        "    cmap = ListedColormap(colors[:len(np.unique(y))])\r\n",
        "\r\n",
        "    # plot the decision surface\r\n",
        "    x1_min, x1_max = X[:, 0].min() - 1, X[:, 0].max() + 1\r\n",
        "    x2_min, x2_max = X[:, 1].min() - 1, X[:, 1].max() + 1\r\n",
        "    xx1, xx2 = np.meshgrid(np.arange(x1_min, x1_max, resolution),\r\n",
        "                           np.arange(x2_min, x2_max, resolution))\r\n",
        "    Z = classifier.predict(np.array([xx1.ravel(), xx2.ravel()]).T)\r\n",
        "    Z = Z.reshape(xx1.shape)\r\n",
        "    plt.contourf(xx1, xx2, Z, alpha=0.3, cmap=cmap)\r\n",
        "    plt.xlim(xx1.min(), xx1.max())\r\n",
        "    plt.ylim(xx2.min(), xx2.max())\r\n",
        "\r\n",
        "    for idx, cl in enumerate(np.unique(y)):\r\n",
        "        plt.scatter(x=X[y == cl, 0], \r\n",
        "                    y=X[y == cl, 1],\r\n",
        "                    alpha=0.8, \r\n",
        "                    c=colors[idx],\r\n",
        "                    marker=markers[idx], \r\n",
        "                    label=cl, \r\n",
        "                    edgecolor='black')\r\n",
        "\r\n",
        "    # highlight test samples\r\n",
        "    if test_idx:\r\n",
        "        # plot all samples\r\n",
        "        X_test, y_test = X[test_idx, :], y[test_idx]\r\n",
        "\r\n",
        "        plt.scatter(X_test[:, 0],\r\n",
        "                    X_test[:, 1],\r\n",
        "                    c='',\r\n",
        "                    edgecolor='black',\r\n",
        "                    alpha=1.0,\r\n",
        "                    linewidth=1,\r\n",
        "                    marker='o',\r\n",
        "                    s=100, \r\n",
        "                    label='test set')"
      ],
      "execution_count": null,
      "outputs": []
    },
    {
      "cell_type": "code",
      "metadata": {
        "colab": {
          "base_uri": "https://localhost:8080/",
          "height": 546
        },
        "id": "U0HxdsmE_VJa",
        "outputId": "6e485c69-d3bf-40aa-c5e7-938eebffd924"
      },
      "source": [
        "tree_clf = DecisionTreeClassifier(criterion='gini',max_depth=4)\r\n",
        "tree_clf.fit(X_train,y_train)\r\n",
        "\r\n",
        "predict=tree_clf.predict(X_test)\r\n",
        "ac_score_tree=metrics.accuracy_score(y_test,predict)\r\n",
        "cl_report_tree=metrics.classification_report(y_test,predict)\r\n",
        "print(\"正解率:\",ac_score_tree)\r\n",
        "print(\"レポート:\\n\",cl_report_tree)"
      ],
      "execution_count": null,
      "outputs": [
        {
          "output_type": "stream",
          "text": [
            "正解率: 0.8333333333333334\n",
            "レポート:\n",
            "               precision    recall  f1-score   support\n",
            "\n",
            "           0       0.71      0.94      0.81        18\n",
            "           1       0.94      0.76      0.84        21\n",
            "           2       0.92      0.80      0.86        15\n",
            "\n",
            "    accuracy                           0.83        54\n",
            "   macro avg       0.86      0.84      0.84        54\n",
            "weighted avg       0.86      0.83      0.84        54\n",
            "\n"
          ],
          "name": "stdout"
        },
        {
          "output_type": "stream",
          "text": [
            "/usr/local/lib/python3.6/dist-packages/ipykernel_launcher.py:45: MatplotlibDeprecationWarning: Using a string of single character colors as a color sequence is deprecated. Use an explicit list instead.\n"
          ],
          "name": "stderr"
        },
        {
          "output_type": "display_data",
          "data": {
            "image/png": "[encoded data removed]",
            "text/plain": [
              "<Figure size 432x288 with 1 Axes>"
            ]
          },
          "metadata": {
            "tags": [],
            "needs_background": "light"
          }
        }
      ]
    },
    {
      "cell_type": "markdown",
      "metadata": {
        "id": "sJFm3fPGCanm"
      },
      "source": [
        "おもっていたより低くなった。。。"
      ]
    },
    {
      "cell_type": "code",
      "metadata": {
        "colab": {
          "base_uri": "https://localhost:8080/",
          "height": 686
        },
        "id": "nljqiITSAX6B",
        "outputId": "3a9f4862-b892-4d39-e1bc-c71be585f150"
      },
      "source": [
        "# 可視化\r\n",
        "X_combined=np.vstack((X_train,X_test))\r\n",
        "y_combined=np.hstack((y_train,y_test))\r\n",
        "\r\n",
        "plot_decision_regions(X_combined,y_combined,classifier=tree_clf,test_idx=range(105,150))\r\n",
        "plt.xlabel('色の濃さ')\r\n",
        "plt.ylabel('色相')\r\n",
        "plt.legend(loc='upper left')\r\n",
        "plt.tight_layout()\r\n",
        "plt.show()"
      ],
      "execution_count": null,
      "outputs": [
        {
          "output_type": "stream",
          "text": [
            "/usr/local/lib/python3.6/dist-packages/ipykernel_launcher.py:45: MatplotlibDeprecationWarning: Using a string of single character colors as a color sequence is deprecated. Use an explicit list instead.\n",
            "/usr/local/lib/python3.6/dist-packages/matplotlib/backends/backend_agg.py:214: RuntimeWarning: Glyph 33394 missing from current font.\n",
            "  font.set_text(s, 0.0, flags=flags)\n",
            "/usr/local/lib/python3.6/dist-packages/matplotlib/backends/backend_agg.py:214: RuntimeWarning: Glyph 12398 missing from current font.\n",
            "  font.set_text(s, 0.0, flags=flags)\n",
            "/usr/local/lib/python3.6/dist-packages/matplotlib/backends/backend_agg.py:214: RuntimeWarning: Glyph 28611 missing from current font.\n",
            "  font.set_text(s, 0.0, flags=flags)\n",
            "/usr/local/lib/python3.6/dist-packages/matplotlib/backends/backend_agg.py:214: RuntimeWarning: Glyph 12373 missing from current font.\n",
            "  font.set_text(s, 0.0, flags=flags)\n",
            "/usr/local/lib/python3.6/dist-packages/matplotlib/backends/backend_agg.py:214: RuntimeWarning: Glyph 30456 missing from current font.\n",
            "  font.set_text(s, 0.0, flags=flags)\n",
            "/usr/local/lib/python3.6/dist-packages/matplotlib/backends/backend_agg.py:183: RuntimeWarning: Glyph 33394 missing from current font.\n",
            "  font.set_text(s, 0, flags=flags)\n",
            "/usr/local/lib/python3.6/dist-packages/matplotlib/backends/backend_agg.py:183: RuntimeWarning: Glyph 12398 missing from current font.\n",
            "  font.set_text(s, 0, flags=flags)\n",
            "/usr/local/lib/python3.6/dist-packages/matplotlib/backends/backend_agg.py:183: RuntimeWarning: Glyph 28611 missing from current font.\n",
            "  font.set_text(s, 0, flags=flags)\n",
            "/usr/local/lib/python3.6/dist-packages/matplotlib/backends/backend_agg.py:183: RuntimeWarning: Glyph 12373 missing from current font.\n",
            "  font.set_text(s, 0, flags=flags)\n",
            "/usr/local/lib/python3.6/dist-packages/matplotlib/backends/backend_agg.py:183: RuntimeWarning: Glyph 30456 missing from current font.\n",
            "  font.set_text(s, 0, flags=flags)\n"
          ],
          "name": "stderr"
        },
        {
          "output_type": "display_data",
          "data": {
            "image/png": "[encoded data removed]",
            "text/plain": [
              "<Figure size 432x288 with 1 Axes>"
            ]
          },
          "metadata": {
            "tags": [],
            "needs_background": "light"
          }
        }
      ]
    },
    {
      "cell_type": "markdown",
      "metadata": {
        "id": "PcFMkpYvCju-"
      },
      "source": [
        "これは、、、密集してるし見た目（色の濃さ、色相）だときれいに分類できなそう(T_T)\r\n",
        "\r\n",
        "そもそも最初に可視化したら直感的にきれいに分類できるかわかりそう。可視化だいじ。猛省"
      ]
    },
    {
      "cell_type": "markdown",
      "metadata": {
        "id": "ychLYAcYAwYi"
      },
      "source": [
        "日本語が□になってるのを直したい(T_T)"
      ]
    },
    {
      "cell_type": "code",
      "metadata": {
        "colab": {
          "base_uri": "https://localhost:8080/"
        },
        "id": "alr8Hnc6A3TK",
        "outputId": "438cb838-b95a-4da4-f2f6-d2e8631aa7db"
      },
      "source": [
        "!pip install japanize-matplotlib"
      ],
      "execution_count": null,
      "outputs": [
        {
          "output_type": "stream",
          "text": [
            "Collecting japanize-matplotlib\n",
            "\u001b[?25l  Downloading https://files.pythonhosted.org/packages/aa/85/08a4b7fe8987582d99d9bb7ad0ff1ec75439359a7f9690a0dbf2dbf98b15/japanize-matplotlib-1.1.3.tar.gz (4.1MB)\n",
            "\u001b[K     |████████████████████████████████| 4.1MB 8.7MB/s \n",
            "\u001b[?25hRequirement already satisfied: matplotlib in /usr/local/lib/python3.6/dist-packages (from japanize-matplotlib) (3.2.2)\n",
            "Requirement already satisfied: cycler>=0.10 in /usr/local/lib/python3.6/dist-packages (from matplotlib->japanize-matplotlib) (0.10.0)\n",
            "Requirement already satisfied: python-dateutil>=2.1 in /usr/local/lib/python3.6/dist-packages (from matplotlib->japanize-matplotlib) (2.8.1)\n",
            "Requirement already satisfied: numpy>=1.11 in /usr/local/lib/python3.6/dist-packages (from matplotlib->japanize-matplotlib) (1.19.5)\n",
            "Requirement already satisfied: pyparsing!=2.0.4,!=2.1.2,!=2.1.6,>=2.0.1 in /usr/local/lib/python3.6/dist-packages (from matplotlib->japanize-matplotlib) (2.4.7)\n",
            "Requirement already satisfied: kiwisolver>=1.0.1 in /usr/local/lib/python3.6/dist-packages (from matplotlib->japanize-matplotlib) (1.3.1)\n",
            "Requirement already satisfied: six in /usr/local/lib/python3.6/dist-packages (from cycler>=0.10->matplotlib->japanize-matplotlib) (1.15.0)\n",
            "Building wheels for collected packages: japanize-matplotlib\n",
            "  Building wheel for japanize-matplotlib (setup.py) ... \u001b[?25l\u001b[?25hdone\n",
            "  Created wheel for japanize-matplotlib: filename=japanize_matplotlib-1.1.3-cp36-none-any.whl size=4120276 sha256=7c6bb692eabefbe8392661794345f25e26c646fae9222187462f5729a9389ba2\n",
            "  Stored in directory: /root/.cache/pip/wheels/b7/d9/a2/f907d50b32a2d2008ce5d691d30fb6569c2c93eefcfde55202\n",
            "Successfully built japanize-matplotlib\n",
            "Installing collected packages: japanize-matplotlib\n",
            "Successfully installed japanize-matplotlib-1.1.3\n"
          ],
          "name": "stdout"
        }
      ]
    },
    {
      "cell_type": "code",
      "metadata": {
        "id": "PFGcDQijBYrX"
      },
      "source": [
        "import japanize_matplotlib"
      ],
      "execution_count": null,
      "outputs": []
    },
    {
      "cell_type": "code",
      "metadata": {
        "colab": {
          "base_uri": "https://localhost:8080/",
          "height": 334
        },
        "id": "8n6RicVwBkk2",
        "outputId": "c37515a0-5e32-4606-bfa9-5b1d950c86cc"
      },
      "source": [
        "# 可視化！\r\n",
        "X_combined=np.vstack((X_train,X_test))\r\n",
        "y_combined=np.hstack((y_train,y_test))\r\n",
        "\r\n",
        "plot_decision_regions(X_combined,y_combined,classifier=tree_clf,test_idx=range(105,150))\r\n",
        "plt.xlabel('色の濃さ')\r\n",
        "plt.ylabel('色相')\r\n",
        "plt.legend(loc='upper left')\r\n",
        "plt.tight_layout()\r\n",
        "plt.show()"
      ],
      "execution_count": null,
      "outputs": [
        {
          "output_type": "stream",
          "text": [
            "/usr/local/lib/python3.6/dist-packages/ipykernel_launcher.py:45: MatplotlibDeprecationWarning: Using a string of single character colors as a color sequence is deprecated. Use an explicit list instead.\n"
          ],
          "name": "stderr"
        },
        {
          "output_type": "display_data",
          "data": {
            "image/png": "[encoded data removed]",
            "text/plain": [
              "<Figure size 432x288 with 1 Axes>"
            ]
          },
          "metadata": {
            "tags": [],
            "needs_background": "light"
          }
        }
      ]
    },
    {
      "cell_type": "markdown",
      "metadata": {
        "id": "9nPTnrOEFJjQ"
      },
      "source": [
        ""
      ]
    }
  ]
}