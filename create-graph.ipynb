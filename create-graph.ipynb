!pip install japanize-matplotlib

import matplotlib.pyplot as plt
import japanize_matplotlib
%matplotlib inline 

value = [68, 32]
label = ['はい', 'いいえ']
colorlist = ["#99CCFF", "#FFFF99"]

plt.pie(x=value, labels=label, autopct="%1.1f%%", startangle=90, counterclock=False, colors=colorlist, explode=[0,0])
plt.legend(bbox_to_anchor=(1.05, 1), loc='upper left', borderaxespad=0, fontsize=12)
plt.show()
plt.savefig("sample.png")
