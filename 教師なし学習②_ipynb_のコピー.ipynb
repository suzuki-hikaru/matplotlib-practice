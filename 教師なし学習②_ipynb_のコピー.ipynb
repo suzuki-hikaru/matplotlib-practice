{
  "nbformat": 4,
  "nbformat_minor": 0,
  "metadata": {
    "colab": {
      "name": "教師なし学習②.ipynb のコピー",
      "provenance": [],
      "include_colab_link": true
    },
    "kernelspec": {
      "name": "python3",
      "display_name": "Python 3"
    }
  },
  "cells": [
    {
      "cell_type": "markdown",
      "metadata": {
        "id": "view-in-github",
        "colab_type": "text"
      },
      "source": [
        "<a href=\"https://colab.research.google.com/github/suzuki-hikaru/ml-practice/blob/master/%E6%95%99%E5%B8%AB%E3%81%AA%E3%81%97%E5%AD%A6%E7%BF%92%E2%91%A1_ipynb_%E3%81%AE%E3%82%B3%E3%83%94%E3%83%BC.ipynb\" target=\"_parent\"><img src=\"https://colab.research.google.com/assets/colab-badge.svg\" alt=\"Open In Colab\"/></a>"
      ]
    },
    {
      "cell_type": "code",
      "metadata": {
        "id": "qLp4ahhrJrMu"
      },
      "source": [
        "import numpy as np\n",
        "import matplotlib.pyplot as plt\n",
        "from sklearn.datasets import make_blobs"
      ],
      "execution_count": null,
      "outputs": []
    },
    {
      "cell_type": "code",
      "metadata": {
        "id": "khN1vvapJuZm"
      },
      "source": [
        "X, y = make_blobs(n_samples=200, n_features=2, centers=3, random_state=10)"
      ],
      "execution_count": null,
      "outputs": []
    },
    {
      "cell_type": "code",
      "metadata": {
        "id": "ZnGRya9yJwR9"
      },
      "source": [
        "def plot_dataset(X, y):\n",
        "    plt.plot(X[:, 0][y==0], X[:, 1][y==0], \"bo\", ms=15)\n",
        "    plt.plot(X[:, 0][y==1], X[:, 1][y==1], \"r^\", ms=15) \n",
        "    plt.plot(X[:, 0][y==2], X[:, 1][y==2], \"gs\", ms=15)\n",
        "    plt.xlabel(\"$X_0$\", fontsize=15)\n",
        "    plt.ylabel(\"$X_1$\", fontsize=15)\n",
        "    \n",
        "plt.figure(figsize=(10, 10))\n",
        "plot_dataset(X, y)\n",
        "plt.show()\n"
      ],
      "execution_count": null,
      "outputs": []
    },
    {
      "cell_type": "code",
      "metadata": {
        "id": "O4ZbwTeVJy_R"
      },
      "source": [
        "from sklearn.cluster import KMeans"
      ],
      "execution_count": null,
      "outputs": []
    },
    {
      "cell_type": "code",
      "metadata": {
        "id": "p2KRzECAJ1q2"
      },
      "source": [
        "k_means = KMeans(n_clusters=3).fit(X)\n",
        "\n",
        "k_means.labels_"
      ],
      "execution_count": null,
      "outputs": []
    },
    {
      "cell_type": "code",
      "metadata": {
        "id": "7oWFDkuCJ47y"
      },
      "source": [
        "def plot_cluster(X, labels):\n",
        "    plt.plot(X[:, 0][labels==0], X[:, 1][labels==0], \"bo\", ms=15)\n",
        "    plt.plot(X[:, 0][labels==1], X[:, 1][labels==1], \"r^\", ms=15) \n",
        "    plt.plot(X[:, 0][labels==2], X[:, 1][labels==2], \"gs\", ms=15)\n",
        "    plt.xlabel(\"$X_0$\", fontsize=15)\n",
        "    plt.ylabel(\"$X_1$\", fontsize=15)\n",
        "    \n",
        "plt.figure(figsize=(10, 10))\n",
        "plot_dataset(X, k_means.labels_)\n",
        "plt.show()"
      ],
      "execution_count": null,
      "outputs": []
    },
    {
      "cell_type": "code",
      "metadata": {
        "id": "DXEIdZpYJ7Qn"
      },
      "source": [
        "from sklearn.datasets import make_moons"
      ],
      "execution_count": null,
      "outputs": []
    },
    {
      "cell_type": "code",
      "metadata": {
        "id": "z9KoPRyVJ9Sl"
      },
      "source": [
        "X, y = make_moons(n_samples=200, noise=0.1, random_state=0)"
      ],
      "execution_count": null,
      "outputs": []
    },
    {
      "cell_type": "code",
      "metadata": {
        "id": "UIBf0dj5J_Qd"
      },
      "source": [
        "plt.figure(figsize=(12, 8))\n",
        "plot_dataset(X, y)\n",
        "plt.show()"
      ],
      "execution_count": null,
      "outputs": []
    },
    {
      "cell_type": "code",
      "metadata": {
        "id": "sSkpkyq0KCek"
      },
      "source": [
        "\n",
        "k_means = KMeans(n_clusters=2).fit(X)\n",
        "k_means.labels_"
      ],
      "execution_count": null,
      "outputs": []
    },
    {
      "cell_type": "code",
      "metadata": {
        "id": "c37-3pyhKF_x"
      },
      "source": [
        "plt.figure(figsize=(12, 8))\n",
        "plot_dataset(X, k_means.labels_)\n",
        "plt.show()\n"
      ],
      "execution_count": null,
      "outputs": []
    },
    {
      "cell_type": "code",
      "metadata": {
        "id": "sBaAHI0NKJhX"
      },
      "source": [
        "from sklearn.datasets import load_iris\n",
        "from scipy.cluster.hierarchy import dendrogram, linkage"
      ],
      "execution_count": null,
      "outputs": []
    },
    {
      "cell_type": "code",
      "metadata": {
        "id": "KJYmvH1sKLiR"
      },
      "source": [
        "iris = load_iris()\n",
        "X = iris.data\n",
        "y = iris.target"
      ],
      "execution_count": null,
      "outputs": []
    },
    {
      "cell_type": "code",
      "metadata": {
        "id": "pGG96lBlKNhb"
      },
      "source": [
        "Z = linkage(X, method='average', metric='euclidean')\n",
        "plt.figure(figsize=(18, 12))\n",
        "dendrogram(Z)\n",
        "plt.show()"
      ],
      "execution_count": null,
      "outputs": []
    }
  ]
}