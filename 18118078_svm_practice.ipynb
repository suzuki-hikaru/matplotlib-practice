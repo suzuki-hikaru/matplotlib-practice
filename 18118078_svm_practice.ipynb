{
  "nbformat": 4,
  "nbformat_minor": 0,
  "metadata": {
    "colab": {
      "name": "18118078_svm_practice",
      "provenance": [],
      "collapsed_sections": [],
      "include_colab_link": true
    },
    "kernelspec": {
      "name": "python3",
      "display_name": "Python 3"
    }
  },
  "cells": [
    {
      "cell_type": "markdown",
      "metadata": {
        "id": "view-in-github",
        "colab_type": "text"
      },
      "source": [
        "<a href=\"https://colab.research.google.com/github/suzuki-hikaru/matplotlib-practice/blob/master/18118078_svm_practice.ipynb\" target=\"_parent\"><img src=\"https://colab.research.google.com/assets/colab-badge.svg\" alt=\"Open In Colab\"/></a>"
      ]
    },
    {
      "cell_type": "markdown",
      "metadata": {
        "id": "UA2XrS92axzm"
      },
      "source": [
        "#機械学習授業第3回②\n",
        "SVMを用いてワインの品質の多クラス分類をおこなってみてください！\n",
        "特徴量は自分で選んでもいいですし、全部使ってもらっても構わないです。\n",
        "特徴量を2つにした場合は2次元で表せるので、以下の可視化関数で境界を可視化することができます(svm_lecture.ipynbでも使ってます)\n",
        "```python\n",
        "from matplotlib.colors import ListedColormap\n",
        "import matplotlib.pyplot as plt\n",
        "\n",
        "def plot_decision_regions(X, y, classifier, test_idx=None, resolution=0.02):\n",
        "\n",
        "    # setup marker generator and color map\n",
        "    markers = ('s', 'x', 'o', '^', 'v')\n",
        "    colors = ('red', 'blue', 'lightgreen', 'gray', 'cyan')\n",
        "    cmap = ListedColormap(colors[:len(np.unique(y))])\n",
        "\n",
        "    # plot the decision surface\n",
        "    x1_min, x1_max = X[:, 0].min() - 1, X[:, 0].max() + 1\n",
        "    x2_min, x2_max = X[:, 1].min() - 1, X[:, 1].max() + 1\n",
        "    xx1, xx2 = np.meshgrid(np.arange(x1_min, x1_max, resolution),\n",
        "                           np.arange(x2_min, x2_max, resolution))\n",
        "    Z = classifier.predict(np.array([xx1.ravel(), xx2.ravel()]).T)\n",
        "    Z = Z.reshape(xx1.shape)\n",
        "    plt.contourf(xx1, xx2, Z, alpha=0.3, cmap=cmap)\n",
        "    plt.xlim(xx1.min(), xx1.max())\n",
        "    plt.ylim(xx2.min(), xx2.max())\n",
        "\n",
        "    for idx, cl in enumerate(np.unique(y)):\n",
        "        plt.scatter(x=X[y == cl, 0], \n",
        "                    y=X[y == cl, 1],\n",
        "                    alpha=0.8, \n",
        "                    c=colors[idx],\n",
        "                    marker=markers[idx], \n",
        "                    label=cl, \n",
        "                    edgecolor='black')\n",
        "\n",
        "    # highlight test samples\n",
        "    if test_idx:\n",
        "        # plot all samples\n",
        "        X_test, y_test = X[test_idx, :], y[test_idx]\n",
        "\n",
        "        plt.scatter(X_test[:, 0],\n",
        "                    X_test[:, 1],\n",
        "                    c='',\n",
        "                    edgecolor='black',\n",
        "                    alpha=1.0,\n",
        "                    linewidth=1,\n",
        "                    marker='o',\n",
        "                    s=100, \n",
        "                    label='test set')\n",
        "```"
      ]
    },
    {
      "cell_type": "markdown",
      "metadata": {
        "id": "1LhZrqRMbGwx"
      },
      "source": [
        "# 提出課題解答欄\n",
        "sklearn を用いる場合はモデル　.scote で正解率を算出すること\n",
        "## 解答欄\n",
        "### トレーニングデータの正解率：1.00\n",
        "\n",
        "### テストデータの正解率：0.94"
      ]
    },
    {
      "cell_type": "markdown",
      "metadata": {
        "id": "I-plCmvRbMWK"
      },
      "source": [
        "# データセット解説\n",
        "## ワイン品質データセット(ロジスティック回帰のときと同じやつ)\n",
        "アルコール濃度や色合いなどの特徴量からワインの\n",
        "\n",
        ">**下記内容は事前にセルを用意している**\n",
        "- データセットの読み込み\n",
        "- トレーニングデータ・テストデータの分割 "
      ]
    },
    {
      "cell_type": "code",
      "metadata": {
        "colab": {
          "base_uri": "https://localhost:8080/"
        },
        "id": "3stwJhV3awsS",
        "outputId": "fe3ead98-0fba-4ed2-e712-9f49cff9e5a1"
      },
      "source": [
        "# インポート\n",
        "import pandas as pd\n",
        "import numpy as np\n",
        "from sklearn.model_selection import train_test_split\n",
        "\n",
        "# 標準のデータセットから糖尿病データセットを読み込む\n",
        "from sklearn import datasets\n",
        "wine = datasets.load_wine()\n",
        "\n",
        "# 読み込み\n",
        "print('目的変数')\n",
        "print(wine.target_names)\n",
        "print('特徴量')\n",
        "print(wine.feature_names)"
      ],
      "execution_count": null,
      "outputs": [
        {
          "output_type": "stream",
          "text": [
            "目的変数\n",
            "['class_0' 'class_1' 'class_2']\n",
            "特徴量\n",
            "['alcohol', 'malic_acid', 'ash', 'alcalinity_of_ash', 'magnesium', 'total_phenols', 'flavanoids', 'nonflavanoid_phenols', 'proanthocyanins', 'color_intensity', 'hue', 'od280/od315_of_diluted_wines', 'proline']\n"
          ],
          "name": "stdout"
        }
      ]
    },
    {
      "cell_type": "code",
      "metadata": {
        "colab": {
          "base_uri": "https://localhost:8080/",
          "height": 215
        },
        "id": "lNU0-Y8-bFQn",
        "outputId": "4b75dd62-f2ab-4a5f-d424-360207471e4a"
      },
      "source": [
        "# データフレーム化\n",
        "y = pd.Series(wine.target, name='Y')\n",
        "X = pd.DataFrame(wine.data, columns=wine.feature_names)\n",
        "\n",
        "# 全体のdaraframe作成\n",
        "df = pd.concat([X, y], axis=1)\n",
        "df.head()"
      ],
      "execution_count": null,
      "outputs": [
        {
          "output_type": "execute_result",
          "data": {
            "text/html": [
              "<div>\n",
              "<style scoped>\n",
              "    .dataframe tbody tr th:only-of-type {\n",
              "        vertical-align: middle;\n",
              "    }\n",
              "\n",
              "    .dataframe tbody tr th {\n",
              "        vertical-align: top;\n",
              "    }\n",
              "\n",
              "    .dataframe thead th {\n",
              "        text-align: right;\n",
              "    }\n",
              "</style>\n",
              "<table border=\"1\" class=\"dataframe\">\n",
              "  <thead>\n",
              "    <tr style=\"text-align: right;\">\n",
              "      <th></th>\n",
              "      <th>alcohol</th>\n",
              "      <th>malic_acid</th>\n",
              "      <th>ash</th>\n",
              "      <th>alcalinity_of_ash</th>\n",
              "      <th>magnesium</th>\n",
              "      <th>total_phenols</th>\n",
              "      <th>flavanoids</th>\n",
              "      <th>nonflavanoid_phenols</th>\n",
              "      <th>proanthocyanins</th>\n",
              "      <th>color_intensity</th>\n",
              "      <th>hue</th>\n",
              "      <th>od280/od315_of_diluted_wines</th>\n",
              "      <th>proline</th>\n",
              "      <th>Y</th>\n",
              "    </tr>\n",
              "  </thead>\n",
              "  <tbody>\n",
              "    <tr>\n",
              "      <th>0</th>\n",
              "      <td>14.23</td>\n",
              "      <td>1.71</td>\n",
              "      <td>2.43</td>\n",
              "      <td>15.6</td>\n",
              "      <td>127.0</td>\n",
              "      <td>2.80</td>\n",
              "      <td>3.06</td>\n",
              "      <td>0.28</td>\n",
              "      <td>2.29</td>\n",
              "      <td>5.64</td>\n",
              "      <td>1.04</td>\n",
              "      <td>3.92</td>\n",
              "      <td>1065.0</td>\n",
              "      <td>0</td>\n",
              "    </tr>\n",
              "    <tr>\n",
              "      <th>1</th>\n",
              "      <td>13.20</td>\n",
              "      <td>1.78</td>\n",
              "      <td>2.14</td>\n",
              "      <td>11.2</td>\n",
              "      <td>100.0</td>\n",
              "      <td>2.65</td>\n",
              "      <td>2.76</td>\n",
              "      <td>0.26</td>\n",
              "      <td>1.28</td>\n",
              "      <td>4.38</td>\n",
              "      <td>1.05</td>\n",
              "      <td>3.40</td>\n",
              "      <td>1050.0</td>\n",
              "      <td>0</td>\n",
              "    </tr>\n",
              "    <tr>\n",
              "      <th>2</th>\n",
              "      <td>13.16</td>\n",
              "      <td>2.36</td>\n",
              "      <td>2.67</td>\n",
              "      <td>18.6</td>\n",
              "      <td>101.0</td>\n",
              "      <td>2.80</td>\n",
              "      <td>3.24</td>\n",
              "      <td>0.30</td>\n",
              "      <td>2.81</td>\n",
              "      <td>5.68</td>\n",
              "      <td>1.03</td>\n",
              "      <td>3.17</td>\n",
              "      <td>1185.0</td>\n",
              "      <td>0</td>\n",
              "    </tr>\n",
              "    <tr>\n",
              "      <th>3</th>\n",
              "      <td>14.37</td>\n",
              "      <td>1.95</td>\n",
              "      <td>2.50</td>\n",
              "      <td>16.8</td>\n",
              "      <td>113.0</td>\n",
              "      <td>3.85</td>\n",
              "      <td>3.49</td>\n",
              "      <td>0.24</td>\n",
              "      <td>2.18</td>\n",
              "      <td>7.80</td>\n",
              "      <td>0.86</td>\n",
              "      <td>3.45</td>\n",
              "      <td>1480.0</td>\n",
              "      <td>0</td>\n",
              "    </tr>\n",
              "    <tr>\n",
              "      <th>4</th>\n",
              "      <td>13.24</td>\n",
              "      <td>2.59</td>\n",
              "      <td>2.87</td>\n",
              "      <td>21.0</td>\n",
              "      <td>118.0</td>\n",
              "      <td>2.80</td>\n",
              "      <td>2.69</td>\n",
              "      <td>0.39</td>\n",
              "      <td>1.82</td>\n",
              "      <td>4.32</td>\n",
              "      <td>1.04</td>\n",
              "      <td>2.93</td>\n",
              "      <td>735.0</td>\n",
              "      <td>0</td>\n",
              "    </tr>\n",
              "  </tbody>\n",
              "</table>\n",
              "</div>"
            ],
            "text/plain": [
              "   alcohol  malic_acid   ash  ...  od280/od315_of_diluted_wines  proline  Y\n",
              "0    14.23        1.71  2.43  ...                          3.92   1065.0  0\n",
              "1    13.20        1.78  2.14  ...                          3.40   1050.0  0\n",
              "2    13.16        2.36  2.67  ...                          3.17   1185.0  0\n",
              "3    14.37        1.95  2.50  ...                          3.45   1480.0  0\n",
              "4    13.24        2.59  2.87  ...                          2.93    735.0  0\n",
              "\n",
              "[5 rows x 14 columns]"
            ]
          },
          "metadata": {
            "tags": []
          },
          "execution_count": 7
        }
      ]
    },
    {
      "cell_type": "code",
      "metadata": {
        "colab": {
          "base_uri": "https://localhost:8080/"
        },
        "id": "7uPkRiA8bn8j",
        "outputId": "767b3822-c80f-47fa-ec7e-8d1ba86e38c6"
      },
      "source": [
        "df.Y.unique()"
      ],
      "execution_count": null,
      "outputs": [
        {
          "output_type": "execute_result",
          "data": {
            "text/plain": [
              "array([0, 1, 2])"
            ]
          },
          "metadata": {
            "tags": []
          },
          "execution_count": 8
        }
      ]
    },
    {
      "cell_type": "markdown",
      "metadata": {
        "id": "bjzkc3A1cHLN"
      },
      "source": [
        "## 以降はsvm_lecture.ipynbを参考に?自由に分析してみてください"
      ]
    },
    {
      "cell_type": "code",
      "metadata": {
        "id": "IpCWQ2w3iOkr"
      },
      "source": [
        "# 準備\r\n",
        "import seaborn as sns\r\n",
        "from sklearn import datasets\r\n",
        "import matplotlib.pyplot as plt\r\n",
        "from sklearn.preprocessing import StandardScaler\r\n",
        "%matplotlib inline"
      ],
      "execution_count": null,
      "outputs": []
    },
    {
      "cell_type": "code",
      "metadata": {
        "id": "aqR2GsadgHeA"
      },
      "source": [
        "# テスト用に分割\r\n",
        "X_train, X_test, y_train, y_test = train_test_split(\r\n",
        "    X, y, test_size=0.3, random_state=1, stratify=y)\r\n",
        "\r\n",
        "# データを正規化する（後の講義で扱う）\r\n",
        "sc = StandardScaler()\r\n",
        "X_train_std = sc.fit_transform(X_train)\r\n",
        "X_test_std = sc.fit_transform(X_test)"
      ],
      "execution_count": null,
      "outputs": []
    },
    {
      "cell_type": "code",
      "metadata": {
        "colab": {
          "base_uri": "https://localhost:8080/"
        },
        "id": "YNUE-2xJhzQQ",
        "outputId": "d75ddbcd-f29d-4e7e-cb71-4e355d9bbe25"
      },
      "source": [
        "from sklearn.svm import SVC\r\n",
        "\r\n",
        "svm = SVC(kernel='linear', C=1, gamma=1, random_state=1)\r\n",
        "svm.fit(X_train_std, y_train)"
      ],
      "execution_count": null,
      "outputs": [
        {
          "output_type": "execute_result",
          "data": {
            "text/plain": [
              "SVC(C=1, break_ties=False, cache_size=200, class_weight=None, coef0=0.0,\n",
              "    decision_function_shape='ovr', degree=3, gamma=1, kernel='linear',\n",
              "    max_iter=-1, probability=False, random_state=1, shrinking=True, tol=0.001,\n",
              "    verbose=False)"
            ]
          },
          "metadata": {
            "tags": []
          },
          "execution_count": 13
        }
      ]
    },
    {
      "cell_type": "code",
      "metadata": {
        "colab": {
          "base_uri": "https://localhost:8080/"
        },
        "id": "TFXk86-Bh2Lo",
        "outputId": "311aff98-ac9c-47a5-9fba-f850cc4b11c6"
      },
      "source": [
        "# 訓練データ\r\n",
        "svm.score(X_train_std, y_train)"
      ],
      "execution_count": null,
      "outputs": [
        {
          "output_type": "execute_result",
          "data": {
            "text/plain": [
              "1.0"
            ]
          },
          "metadata": {
            "tags": []
          },
          "execution_count": 14
        }
      ]
    },
    {
      "cell_type": "code",
      "metadata": {
        "colab": {
          "base_uri": "https://localhost:8080/"
        },
        "id": "cDeZqwdmh4ep",
        "outputId": "3b1c9b69-c566-43c9-8178-b248225de899"
      },
      "source": [
        "# テストデータ\r\n",
        "svm.score(X_test_std, y_test)"
      ],
      "execution_count": null,
      "outputs": [
        {
          "output_type": "execute_result",
          "data": {
            "text/plain": [
              "0.9444444444444444"
            ]
          },
          "metadata": {
            "tags": []
          },
          "execution_count": 15
        }
      ]
    },
    {
      "cell_type": "markdown",
      "metadata": {
        "id": "VWHYsUAjjI7S"
      },
      "source": [
        "参考ノートブックより、『パラメータCはロジスティック回帰のときに説明したものと同様に、正則化の強さを示すものです。gammaは大きいほど決定境界を複雑にする(直線じゃなくてギザギザ波波みたいな?)ものです。なので、Cと同様に大きくしすぎると訓練データに強く適合しようとするため、過学習してしまうことに繋がります。』"
      ]
    },
    {
      "cell_type": "markdown",
      "metadata": {
        "id": "-UJnSedvlZVS"
      },
      "source": [
        "【gammaを大きくする】"
      ]
    },
    {
      "cell_type": "code",
      "metadata": {
        "colab": {
          "base_uri": "https://localhost:8080/"
        },
        "id": "O6akuVuKji4X",
        "outputId": "5a42b352-9b09-4354-ee4a-ec0231142d42"
      },
      "source": [
        "svm = SVC(kernel='linear', C=1, gamma=100, random_state=1)\r\n",
        "svm.fit(X_train_std, y_train)"
      ],
      "execution_count": null,
      "outputs": [
        {
          "output_type": "execute_result",
          "data": {
            "text/plain": [
              "SVC(C=1, break_ties=False, cache_size=200, class_weight=None, coef0=0.0,\n",
              "    decision_function_shape='ovr', degree=3, gamma=100, kernel='linear',\n",
              "    max_iter=-1, probability=False, random_state=1, shrinking=True, tol=0.001,\n",
              "    verbose=False)"
            ]
          },
          "metadata": {
            "tags": []
          },
          "execution_count": 37
        }
      ]
    },
    {
      "cell_type": "code",
      "metadata": {
        "colab": {
          "base_uri": "https://localhost:8080/"
        },
        "id": "q3ToRAw_jmZP",
        "outputId": "ee12e41b-1c4d-4701-8d9b-63437f2cbc79"
      },
      "source": [
        "# 訓練データ\r\n",
        "svm.score(X_train_std, y_train)\r\n"
      ],
      "execution_count": null,
      "outputs": [
        {
          "output_type": "execute_result",
          "data": {
            "text/plain": [
              "1.0"
            ]
          },
          "metadata": {
            "tags": []
          },
          "execution_count": 38
        }
      ]
    },
    {
      "cell_type": "code",
      "metadata": {
        "colab": {
          "base_uri": "https://localhost:8080/"
        },
        "id": "DqrsgbSrjsVI",
        "outputId": "c1254b20-e6e0-434d-f714-afe92bfe32b3"
      },
      "source": [
        "# テストデータ\r\n",
        "svm.score(X_test_std, y_test)"
      ],
      "execution_count": null,
      "outputs": [
        {
          "output_type": "execute_result",
          "data": {
            "text/plain": [
              "0.9444444444444444"
            ]
          },
          "metadata": {
            "tags": []
          },
          "execution_count": 36
        }
      ]
    },
    {
      "cell_type": "markdown",
      "metadata": {
        "id": "2wXG4hTfj8y2"
      },
      "source": [
        "過学習がない。変わらない?"
      ]
    },
    {
      "cell_type": "markdown",
      "metadata": {
        "id": "JwPlLqIjlj43"
      },
      "source": [
        "【Cを大きくする】"
      ]
    },
    {
      "cell_type": "code",
      "metadata": {
        "colab": {
          "base_uri": "https://localhost:8080/"
        },
        "id": "Dta-9WTFkGcO",
        "outputId": "640f4c28-77b8-4186-a8c2-59e8da24334c"
      },
      "source": [
        "svm = SVC(kernel='linear', C=100, gamma=1, random_state=1)\r\n",
        "svm.fit(X_train_std, y_train)"
      ],
      "execution_count": null,
      "outputs": [
        {
          "output_type": "execute_result",
          "data": {
            "text/plain": [
              "SVC(C=100, break_ties=False, cache_size=200, class_weight=None, coef0=0.0,\n",
              "    decision_function_shape='ovr', degree=3, gamma=1, kernel='linear',\n",
              "    max_iter=-1, probability=False, random_state=1, shrinking=True, tol=0.001,\n",
              "    verbose=False)"
            ]
          },
          "metadata": {
            "tags": []
          },
          "execution_count": 29
        }
      ]
    },
    {
      "cell_type": "code",
      "metadata": {
        "colab": {
          "base_uri": "https://localhost:8080/"
        },
        "id": "ZpbxBGcPkI-J",
        "outputId": "aa664568-f8f1-44b7-e727-e73cb80539dd"
      },
      "source": [
        "# 訓練データ\r\n",
        "svm.score(X_train_std, y_train)"
      ],
      "execution_count": null,
      "outputs": [
        {
          "output_type": "execute_result",
          "data": {
            "text/plain": [
              "1.0"
            ]
          },
          "metadata": {
            "tags": []
          },
          "execution_count": 30
        }
      ]
    },
    {
      "cell_type": "code",
      "metadata": {
        "colab": {
          "base_uri": "https://localhost:8080/"
        },
        "id": "aLvACDeakKrw",
        "outputId": "d7e785c9-92cd-4341-e1ff-501150a7f243"
      },
      "source": [
        "# テストデータ\r\n",
        "svm.score(X_test_std, y_test)"
      ],
      "execution_count": null,
      "outputs": [
        {
          "output_type": "execute_result",
          "data": {
            "text/plain": [
              "0.9444444444444444"
            ]
          },
          "metadata": {
            "tags": []
          },
          "execution_count": 31
        }
      ]
    },
    {
      "cell_type": "markdown",
      "metadata": {
        "id": "-PG4GOzQkdaZ"
      },
      "source": [
        "Cを大きくしても変わらない。。"
      ]
    }
  ]
}