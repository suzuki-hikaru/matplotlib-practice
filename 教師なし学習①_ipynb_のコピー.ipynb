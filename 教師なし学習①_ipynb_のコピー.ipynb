{
  "nbformat": 4,
  "nbformat_minor": 0,
  "metadata": {
    "colab": {
      "name": "教師なし学習①.ipynb のコピー",
      "provenance": [],
      "include_colab_link": true
    },
    "kernelspec": {
      "name": "python3",
      "display_name": "Python 3"
    }
  },
  "cells": [
    {
      "cell_type": "markdown",
      "metadata": {
        "id": "view-in-github",
        "colab_type": "text"
      },
      "source": [
        "<a href=\"https://colab.research.google.com/github/suzuki-hikaru/ml-practice/blob/master/%E6%95%99%E5%B8%AB%E3%81%AA%E3%81%97%E5%AD%A6%E7%BF%92%E2%91%A0_ipynb_%E3%81%AE%E3%82%B3%E3%83%94%E3%83%BC.ipynb\" target=\"_parent\"><img src=\"https://colab.research.google.com/assets/colab-badge.svg\" alt=\"Open In Colab\"/></a>"
      ]
    },
    {
      "cell_type": "code",
      "metadata": {
        "id": "W6IldNFB8ehv"
      },
      "source": [
        "import numpy as np\n",
        "import pandas as pd\n",
        "import matplotlib.pyplot as plt\n",
        "%matplotlib inline"
      ],
      "execution_count": null,
      "outputs": []
    },
    {
      "cell_type": "code",
      "metadata": {
        "id": "mP8pTs3f9-B9"
      },
      "source": [
        "df = pd.read_csv('/train.csv')\n",
        "df.head()"
      ],
      "execution_count": null,
      "outputs": []
    },
    {
      "cell_type": "code",
      "metadata": {
        "id": "lfhGGyBn_720"
      },
      "source": [
        "df.info()"
      ],
      "execution_count": null,
      "outputs": []
    },
    {
      "cell_type": "code",
      "metadata": {
        "id": "oZUNA7By_-Y6"
      },
      "source": [
        "df['Age'] = df['Age'].fillna(df['Age'].mean())\n",
        "df['Embarked'] = df['Embarked'].fillna(df['Embarked'].mode()[0])\n",
        "\n",
        "df.info()"
      ],
      "execution_count": null,
      "outputs": []
    },
    {
      "cell_type": "code",
      "metadata": {
        "id": "fpNQ-caO-Bhk"
      },
      "source": [
        "X = df.drop(columns=['PassengerId', 'Survived', 'Name', 'Ticket', 'Cabin'])\n",
        "y = df['Survived']\n",
        "\n",
        "X.head()"
      ],
      "execution_count": null,
      "outputs": []
    },
    {
      "cell_type": "code",
      "metadata": {
        "id": "A8WfNgrk_3NM"
      },
      "source": [
        "from sklearn.preprocessing import LabelEncoder\n",
        "\n",
        "cat_features = ['Sex', 'Embarked']\n",
        "\n",
        "for col in cat_features:\n",
        "    lbl = LabelEncoder()\n",
        "    X[col] = lbl.fit_transform(list(df[col].values))\n",
        "    \n",
        "X.head()"
      ],
      "execution_count": null,
      "outputs": []
    },
    {
      "cell_type": "code",
      "metadata": {
        "colab": {
          "base_uri": "https://localhost:8080/",
          "height": 204
        },
        "id": "-fCVp_5U_0aZ",
        "outputId": "11334136-021b-4e84-b5ef-ae4022b2c911"
      },
      "source": [
        "from sklearn.preprocessing import StandardScaler\n",
        "\n",
        "num_features = ['Age', 'Fare']\n",
        "\n",
        "for col in num_features:\n",
        "    scaler = StandardScaler()\n",
        "    X[col] = scaler.fit_transform(np.array(df[col].values).reshape(-1, 1))\n",
        "    \n",
        "X.head()\n"
      ],
      "execution_count": null,
      "outputs": [
        {
          "output_type": "execute_result",
          "data": {
            "text/html": [
              "<div>\n",
              "<style scoped>\n",
              "    .dataframe tbody tr th:only-of-type {\n",
              "        vertical-align: middle;\n",
              "    }\n",
              "\n",
              "    .dataframe tbody tr th {\n",
              "        vertical-align: top;\n",
              "    }\n",
              "\n",
              "    .dataframe thead th {\n",
              "        text-align: right;\n",
              "    }\n",
              "</style>\n",
              "<table border=\"1\" class=\"dataframe\">\n",
              "  <thead>\n",
              "    <tr style=\"text-align: right;\">\n",
              "      <th></th>\n",
              "      <th>Pclass</th>\n",
              "      <th>Sex</th>\n",
              "      <th>Age</th>\n",
              "      <th>SibSp</th>\n",
              "      <th>Parch</th>\n",
              "      <th>Fare</th>\n",
              "      <th>Embarked</th>\n",
              "    </tr>\n",
              "  </thead>\n",
              "  <tbody>\n",
              "    <tr>\n",
              "      <th>0</th>\n",
              "      <td>3</td>\n",
              "      <td>1</td>\n",
              "      <td>-0.592481</td>\n",
              "      <td>1</td>\n",
              "      <td>0</td>\n",
              "      <td>-0.502445</td>\n",
              "      <td>2</td>\n",
              "    </tr>\n",
              "    <tr>\n",
              "      <th>1</th>\n",
              "      <td>1</td>\n",
              "      <td>0</td>\n",
              "      <td>0.638789</td>\n",
              "      <td>1</td>\n",
              "      <td>0</td>\n",
              "      <td>0.786845</td>\n",
              "      <td>0</td>\n",
              "    </tr>\n",
              "    <tr>\n",
              "      <th>2</th>\n",
              "      <td>3</td>\n",
              "      <td>0</td>\n",
              "      <td>-0.284663</td>\n",
              "      <td>0</td>\n",
              "      <td>0</td>\n",
              "      <td>-0.488854</td>\n",
              "      <td>2</td>\n",
              "    </tr>\n",
              "    <tr>\n",
              "      <th>3</th>\n",
              "      <td>1</td>\n",
              "      <td>0</td>\n",
              "      <td>0.407926</td>\n",
              "      <td>1</td>\n",
              "      <td>0</td>\n",
              "      <td>0.420730</td>\n",
              "      <td>2</td>\n",
              "    </tr>\n",
              "    <tr>\n",
              "      <th>4</th>\n",
              "      <td>3</td>\n",
              "      <td>1</td>\n",
              "      <td>0.407926</td>\n",
              "      <td>0</td>\n",
              "      <td>0</td>\n",
              "      <td>-0.486337</td>\n",
              "      <td>2</td>\n",
              "    </tr>\n",
              "  </tbody>\n",
              "</table>\n",
              "</div>"
            ],
            "text/plain": [
              "   Pclass  Sex       Age  SibSp  Parch      Fare  Embarked\n",
              "0       3    1 -0.592481      1      0 -0.502445         2\n",
              "1       1    0  0.638789      1      0  0.786845         0\n",
              "2       3    0 -0.284663      0      0 -0.488854         2\n",
              "3       1    0  0.407926      1      0  0.420730         2\n",
              "4       3    1  0.407926      0      0 -0.486337         2"
            ]
          },
          "metadata": {
            "tags": []
          },
          "execution_count": 52
        }
      ]
    },
    {
      "cell_type": "code",
      "metadata": {
        "id": "f81E392h_wKj"
      },
      "source": [
        "from sklearn.decomposition import PCA\n",
        "\n",
        "pca = PCA()\n",
        "\n",
        "X_pca = pca.fit_transform(X)\n",
        "X_pca"
      ],
      "execution_count": null,
      "outputs": []
    },
    {
      "cell_type": "code",
      "metadata": {
        "id": "VRiC-HSu_tTB"
      },
      "source": [
        "def plot_2d(X, y):\n",
        "    plt.plot(X[:, 0][y==0], X[:, 1][y==0], \"bo\", ms=15)\n",
        "    plt.plot(X[:, 0][y==1], X[:, 1][y==1], \"r^\", ms=15) \n",
        "    plt.xlabel(\"First Principal Component\")\n",
        "    plt.ylabel(\"Second Principal Component\")\n",
        "    plt.legend(['Not Survived', 'Survived'], loc=\"best\")\n",
        "\n",
        "plt.figure(figsize=(10, 10))\n",
        "plot_2d(X_pca, y)\n",
        "plt.show()"
      ],
      "execution_count": null,
      "outputs": []
    },
    {
      "cell_type": "code",
      "metadata": {
        "id": "_xn65TrG_m2g"
      },
      "source": [
        "from mpl_toolkits.mplot3d import Axes3D\n",
        "# %matplotlib notebook\n",
        "\n",
        "def plot_3d(X, y):\n",
        "    fig = plt.figure(figsize=(8, 6))\n",
        "    ax = fig.add_subplot(111, projection='3d')\n",
        "    \n",
        "    ax.plot(X[:, 0][y==0], X[:, 0][y==0], X[:, 2][y==0], \"bo\", ms=15)\n",
        "    ax.plot(X[:, 0][y==1], X[:, 1][y==1], X[:, 2][y==1], \"r^\", ms=15)\n",
        "\n",
        "    ax.set_xlabel(\"First Principal Component\", fontsize=15)\n",
        "    ax.set_ylabel(\"Second Principal Component\", fontsize=15)\n",
        "    ax.set_zlabel(\"Third Principal Component\", fontsize=15)\n",
        "    ax.legend(['Not Survived', 'Survived'], loc=\"best\", fontsize=16)\n",
        "    \n",
        "    ax.view_init(200, 240)\n",
        "    ax.invert_xaxis()\n",
        "    ax.invert_zaxis()\n",
        "\n",
        "plot_3d(X_pca, y)\n",
        "plt.show()"
      ],
      "execution_count": null,
      "outputs": []
    },
    {
      "cell_type": "code",
      "metadata": {
        "id": "SssoSH1S_jBG"
      },
      "source": [
        "pca.explained_variance_ratio_"
      ],
      "execution_count": null,
      "outputs": []
    },
    {
      "cell_type": "code",
      "metadata": {
        "id": "-qx1RzhJ_dSK"
      },
      "source": [
        "%matplotlib inline\n",
        "plt.figure(figsize=(12, 8))\n",
        "plt.plot(np.hstack([0, pca.explained_variance_ratio_.cumsum()]))\n",
        "plt.xlabel(\"n_components\", fontsize=15)\n",
        "plt.ylabel(\"explained_variance_ratio_\", fontsize=15)\n",
        "plt.show()"
      ],
      "execution_count": null,
      "outputs": []
    },
    {
      "cell_type": "code",
      "metadata": {
        "id": "tZOUYQXh_Z6R"
      },
      "source": [
        "pca.components_"
      ],
      "execution_count": null,
      "outputs": []
    },
    {
      "cell_type": "code",
      "metadata": {
        "id": "aTZCWAQz_W_-"
      },
      "source": [
        "plt.matshow(pca.components_, cmap='Greys')\n",
        "plt.yticks(range(len(pca.components_)), range(1, 8))\n",
        "plt.colorbar()\n",
        "plt.xticks(range(X.shape[1]), X.columns.values, rotation=60, ha='left')\n",
        "plt.xlabel(\"Features\")\n",
        "plt.ylabel(\"Principal components\")\n",
        "plt.show()"
      ],
      "execution_count": null,
      "outputs": []
    }
  ]
}